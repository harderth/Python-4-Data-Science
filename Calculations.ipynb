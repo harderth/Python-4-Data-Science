{
 "cells": [
  {
   "cell_type": "markdown",
   "metadata": {},
   "source": [
    "# Calculations in Python"
   ]
  },
  {
   "cell_type": "markdown",
   "metadata": {},
   "source": [
    "## Define numbers"
   ]
  },
  {
   "cell_type": "code",
   "execution_count": 22,
   "metadata": {},
   "outputs": [],
   "source": [
    "number_1 = 5\n",
    "number_2 = 7"
   ]
  },
  {
   "cell_type": "markdown",
   "metadata": {},
   "source": [
    "## Operators\n",
    "All the **operators** that Python can work with are presented below. <br> \n",
    "<br>\n",
    "`x` + `y` = Sum of `x` and `y` <br>\n",
    "`x` - `y` = Difference of `x` and `y` <br>\n",
    "`-x` = Changed sign of `x` <br>\n",
    "`+x` = Identity of `x`<br>\n",
    "`x` * `y` = Product of `x` and `y` <br>\n",
    "`x` / `y` = Quotient of `x` and `y` <br>\n",
    "`x` // `y` = Quotient from floor division of `x` and `y` <br>\n",
    "`x` % `y` = Remainder of `x` / `y` <br>\n",
    "`x` ** `y` = `x` to the `y` power <br>"
   ]
  },
  {
   "cell_type": "code",
   "execution_count": 23,
   "metadata": {},
   "outputs": [
    {
     "name": "stdout",
     "output_type": "stream",
     "text": [
      "Sum:  12\n",
      "Difference of Number 1 and Number 2:  -2\n",
      "Changed sign of Number 1:  -5\n",
      "Identity of Number 1:  5\n",
      "Quotient of Number 1 and Number 2:  0.7142857142857143\n",
      "Quotient from floor division of Number 1 and Number 2:  0\n",
      "Remainder of Number 1 / Number 2:  5\n",
      "Number 1 to the Number 2 power:  78125\n"
     ]
    }
   ],
   "source": [
    "print(\"Sum: \", number_1 + number_2)\n",
    "print(\"Difference of Number 1 and Number 2: \", number_1 - number_2)\n",
    "print(\"Changed sign of Number 1: \", -number_1)\n",
    "print(\"Identity of Number 1: \", +number_1)\n",
    "print(\"Quotient of Number 1 and Number 2: \", number_1 / number_2)\n",
    "print(\"Quotient from floor division of Number 1 and Number 2: \", number_1 // number_2)\n",
    "print(\"Remainder of Number 1 / Number 2: \", number_1 % number_2)\n",
    "print(\"Number 1 to the Number 2 power: \", number_1 ** number_2)"
   ]
  }
 ],
 "metadata": {
  "interpreter": {
   "hash": "c0192ca4e0a4703a543a4e9097cc496511a0897681eca70535edf4132968de18"
  },
  "kernelspec": {
   "display_name": "Python 3.9.7 ('base')",
   "language": "python",
   "name": "python3"
  },
  "language_info": {
   "codemirror_mode": {
    "name": "ipython",
    "version": 3
   },
   "file_extension": ".py",
   "mimetype": "text/x-python",
   "name": "python",
   "nbconvert_exporter": "python",
   "pygments_lexer": "ipython3",
   "version": "3.9.7"
  },
  "orig_nbformat": 4
 },
 "nbformat": 4,
 "nbformat_minor": 2
}
